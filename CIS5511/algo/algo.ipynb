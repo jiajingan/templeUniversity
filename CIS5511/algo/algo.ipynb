{
 "cells": [
  {
   "cell_type": "code",
   "execution_count": 26,
   "id": "5f6f712c-65af-4c2f-a8c8-0502530761c1",
   "metadata": {},
   "outputs": [],
   "source": [
    "# Implement InsertionSort, MergeSort, QuickSort(Lomuto), QuickSort(Harse), and CountingSort\n",
    "import math\n",
    "import sys"
   ]
  },
  {
   "cell_type": "code",
   "execution_count": 27,
   "id": "8ae52bf2-0929-4ea0-9d04-0f58bdc12d23",
   "metadata": {},
   "outputs": [],
   "source": [
    "# InsertionSort\n",
    "def insertionSort(list1):\n",
    "    for i in range(1,len(list1)):\n",
    "        key = list1[i]\n",
    "        j = i-1\n",
    "        while j>0 and list1[j]>key:\n",
    "            list1[j+1]=list1[j]\n",
    "            j=j-1\n",
    "        list1[j+1] = key\n",
    "    return list1\n",
    "# Time Complexity = O(n^2) because of two loops (for loop and while loop)\n",
    "# Space Complexity = O(1) nothing was stored in memory"
   ]
  },
  {
   "cell_type": "code",
   "execution_count": 28,
   "id": "60070c73-50b8-487f-851a-fa94047c4111",
   "metadata": {},
   "outputs": [],
   "source": [
    "def merge(A, p, q, r):\n",
    "    L = A[p:q+1]\n",
    "    R = A[q+1:r+1]\n",
    "    i = 0\n",
    "    j = 0\n",
    "    k = p\n",
    "    while i < len(L) and j < len(R):\n",
    "        if(L[i] < R[j]):\n",
    "            A[k] = L[i]\n",
    "            i += 1\n",
    "        else:\n",
    "            A[k] = R[j]\n",
    "            j += 1\n",
    "        k += 1\n",
    "    if(j == len(R)):\n",
    "        A[k:r+1] = L[i:]\n",
    "\n",
    "def mergeSort(A, p, r):\n",
    "    if(p < r):\n",
    "        q = math.floor((p+r)/2)\n",
    "        mergeSort(A, p, q)\n",
    "        mergeSort(A, q+1, r)\n",
    "        merge(A, p, q, r)\n",
    "\n",
    "# Time Complexity = O(nlogn) b/c divide and conquer\n",
    "# Space Complexity = O(n) "
   ]
  },
  {
   "cell_type": "code",
   "execution_count": 50,
   "id": "a20bf716-c775-4232-a1c3-02e540efcd67",
   "metadata": {},
   "outputs": [],
   "source": [
    "def countingSort(arr):\n",
    "    maxElement = int(max(arr))\n",
    "    minElement = int(min(arr))\n",
    "    range_of_elements = max_element - min_element + 1\n",
    "\n",
    "    count_arr = [0 for _ in range(range_of_elements)]\n",
    "    output_arr = [0 for _ in range(len(arr))]\n",
    "  \n",
    "    for i in range(0, len(arr)):\n",
    "        count_arr[arr[i]-min_element] += 1\n",
    "  \n",
    "    for i in range(1, len(count_arr)):\n",
    "        count_arr[i] += count_arr[i-1]\n",
    "  \n",
    "    for i in range(len(arr)-1, -1, -1):\n",
    "        output_arr[count_arr[arr[i] - min_element] - 1] = arr[i]\n",
    "        count_arr[arr[i] - min_element] -= 1\n",
    "  \n",
    "    for i in range(0, len(arr)):\n",
    "        arr[i] = output_arr[i]\n",
    "  \n",
    "    return arr"
   ]
  },
  {
   "cell_type": "code",
   "execution_count": 51,
   "id": "ff0ece2d-e255-421f-a19c-764e538caf46",
   "metadata": {},
   "outputs": [
    {
     "name": "stdout",
     "output_type": "stream",
     "text": [
      "[1, 5, 4, 3, 98, 22]\n",
      "30000\n",
      "[1, 5, 4, 3, 98, 22]\n",
      "[1, 3, 4, 5, 22, 98]\n"
     ]
    }
   ],
   "source": [
    "list1 = [1,5,4,3,98,22]\n",
    "# a = list1.sort()\n",
    "print(list1)\n",
    "# sys.setrecursionlimit(30000)\n",
    "print(sys.getrecursionlimit())\n",
    "# insertionSort(list1)\n",
    "# print(mergeSort(list1,0,len(list1)-1))\n",
    "print(list1)\n",
    "a= countingSort(list1)\n",
    "print(a)"
   ]
  },
  {
   "cell_type": "code",
   "execution_count": null,
   "id": "ebec264a-b0c7-4614-b0ef-63fbea5abf28",
   "metadata": {},
   "outputs": [],
   "source": []
  }
 ],
 "metadata": {
  "kernelspec": {
   "display_name": "Python 3 (ipykernel)",
   "language": "python",
   "name": "python3"
  },
  "language_info": {
   "codemirror_mode": {
    "name": "ipython",
    "version": 3
   },
   "file_extension": ".py",
   "mimetype": "text/x-python",
   "name": "python",
   "nbconvert_exporter": "python",
   "pygments_lexer": "ipython3",
   "version": "3.10.6"
  }
 },
 "nbformat": 4,
 "nbformat_minor": 5
}
