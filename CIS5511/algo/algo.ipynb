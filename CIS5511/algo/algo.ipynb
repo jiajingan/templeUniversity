{
 "cells": [
  {
   "cell_type": "code",
   "execution_count": 1,
   "id": "5f6f712c-65af-4c2f-a8c8-0502530761c1",
   "metadata": {},
   "outputs": [],
   "source": [
    "# Implement InsertionSort, MergeSort, QuickSort(Lomuto), QuickSort(Harse), and CountingSort"
   ]
  },
  {
   "cell_type": "code",
   "execution_count": 2,
   "id": "8ae52bf2-0929-4ea0-9d04-0f58bdc12d23",
   "metadata": {},
   "outputs": [],
   "source": [
    "# InsertionSort\n",
    "def InsertionSort(list1):\n",
    "    for i in range(1,len(list1)):\n",
    "        key = list1[i]\n",
    "        j = i-1\n",
    "        while j>0 and list1[j]>key:\n",
    "            list1[j+1]=list1[j]\n",
    "            j=j-1\n",
    "        list1[j+1] = key\n",
    "    return list1"
   ]
  },
  {
   "cell_type": "code",
   "execution_count": 3,
   "id": "ff0ece2d-e255-421f-a19c-764e538caf46",
   "metadata": {},
   "outputs": [
    {
     "data": {
      "text/plain": [
       "[1, 3, 4, 5, 22, 98]"
      ]
     },
     "execution_count": 3,
     "metadata": {},
     "output_type": "execute_result"
    }
   ],
   "source": [
    "list1 = [1,5,4,3,98,22]\n",
    "InsertionSort(list1)"
   ]
  },
  {
   "cell_type": "code",
   "execution_count": null,
   "id": "1ee0ff2e-dd66-4e8b-a413-21ecfb0d6563",
   "metadata": {},
   "outputs": [],
   "source": [
    "# MergeSort\n",
    "def MergeSort(list1):\n",
    "    "
   ]
  }
 ],
 "metadata": {
  "kernelspec": {
   "display_name": "Python 3 (ipykernel)",
   "language": "python",
   "name": "python3"
  },
  "language_info": {
   "codemirror_mode": {
    "name": "ipython",
    "version": 3
   },
   "file_extension": ".py",
   "mimetype": "text/x-python",
   "name": "python",
   "nbconvert_exporter": "python",
   "pygments_lexer": "ipython3",
   "version": "3.10.6"
  }
 },
 "nbformat": 4,
 "nbformat_minor": 5
}
