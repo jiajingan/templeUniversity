{
 "cells": [
  {
   "cell_type": "code",
   "execution_count": 4,
   "id": "5f6f712c-65af-4c2f-a8c8-0502530761c1",
   "metadata": {},
   "outputs": [],
   "source": [
    "# Implement InsertionSort, MergeSort, QuickSort(Lomuto), QuickSort(Hoare), and CountingSort\n",
    "import math\n",
    "import random\n",
    "import sys\n",
    "random.seed(10)"
   ]
  },
  {
   "cell_type": "code",
   "execution_count": 23,
   "id": "8ae52bf2-0929-4ea0-9d04-0f58bdc12d23",
   "metadata": {},
   "outputs": [],
   "source": [
    "# InsertionSort\n",
    "def insertionSort(A):\n",
    "    for i in range(1, len(A)): \n",
    "        key = A[i] \n",
    "        j = i-1\n",
    "        while j >=0 and key < A[j] : \n",
    "                A[j+1] = A[j] \n",
    "                j -= 1\n",
    "        A[j+1] = key\n",
    "    # return A\n",
    "# Time Complexity = O(n^2) because of two loops (for loop and while loop)\n",
    "# Space Complexity = O(1) nothing was stored in memory"
   ]
  },
  {
   "cell_type": "code",
   "execution_count": 24,
   "id": "60070c73-50b8-487f-851a-fa94047c4111",
   "metadata": {},
   "outputs": [],
   "source": [
    "def merge(A, p, q, r):\n",
    "    L = A[p:q+1]\n",
    "    R = A[q+1:r+1]\n",
    "    i = 0\n",
    "    j = 0\n",
    "    k = p\n",
    "    while i < len(L) and j < len(R):\n",
    "        if(L[i] < R[j]):\n",
    "            A[k] = L[i]\n",
    "            i += 1\n",
    "        else:\n",
    "            A[k] = R[j]\n",
    "            j += 1\n",
    "        k += 1\n",
    "    if(j == len(R)):\n",
    "        A[k:r+1] = L[i:]\n",
    "\n",
    "def mergeSort(A,p,r):\n",
    "    # p = 0\n",
    "    # r = len(A)-1\n",
    "    if(p < r):\n",
    "        q = math.floor((p+r)/2)\n",
    "        mergeSort(A, p, q)\n",
    "        mergeSort(A, q+1, r)\n",
    "        merge(A, p, q, r)\n",
    "    # else:\n",
    "    #     return A\n",
    "\n",
    "# Time Complexity = O(nlogn) due to recursion + divide and conquer\n",
    "# Space Complexity = O(n) b/c divide and conquer, the tree is n*c which yields n"
   ]
  },
  {
   "cell_type": "code",
   "execution_count": 25,
   "id": "a20bf716-c775-4232-a1c3-02e540efcd67",
   "metadata": {},
   "outputs": [],
   "source": [
    "def countingSort(A):\n",
    "    counts = [0 for _ in range(max(A) + 1)]\n",
    "    sortedArr = [0 for _ in range(len(A))]\n",
    "    \n",
    "    for element in A:\n",
    "        counts[element] += 1\n",
    "\n",
    "    for index in range(1, len(counts)):\n",
    "        counts[index] = counts[index] + counts[index - 1]\n",
    "\n",
    "    for element in A:\n",
    "        counts[element] -= 1\n",
    "        sortedArr[counts[element]] = element\n",
    "\n",
    "    return sortedArr\n",
    "# Time Complexity = O(n+k), n is the amount of elements and k is the range of the element min to max\n",
    "# Space Complexity = O(k), we need to allocate a sorted list that is determined by k range"
   ]
  },
  {
   "cell_type": "code",
   "execution_count": 28,
   "id": "b75e29e3-b630-471c-8dd9-3e57b8030ad0",
   "metadata": {},
   "outputs": [],
   "source": [
    "def partitionLomuto(A,p,r):\n",
    "    pivot = A[r]\n",
    "    i = p-1\n",
    "    for j in range (p,r):\n",
    "        if A[j] <= pivot:#looking for pivot\n",
    "            i += 1\n",
    "            A[i], A[j] = A[j], A[i] #swap\n",
    "    A[i+1], A[r] = A[r], A[i+1] \n",
    "    return i+1\n",
    "def quickSortLomuto(A,p,r):\n",
    "    if p < r:\n",
    "        q = partitionLomuto(A,p,r)\n",
    "        quickSortLomuto(A,p,q-1)\n",
    "        quickSortLomuto(A,q+1,r)\n",
    "    else:\n",
    "        return A\n",
    "# Time Complexity = O(nlogn) due to recursion + divide and conquer\n",
    "# Space Complexity = O(logn) It calls the recursion logn times"
   ]
  },
  {
   "cell_type": "code",
   "execution_count": null,
   "id": "823055e1-3329-4c9e-865c-51beb218f141",
   "metadata": {},
   "outputs": [],
   "source": [
    "def partitionHoare(A,p,r):\n",
    "    pivot = A[p]\n",
    "    i = p-1\n",
    "    j = r+1\n",
    "    while True:\n",
    "        while True:\n",
    "            if A[j] <= pivot:\n",
    "                break\n",
    "            j -= 1\n",
    "        while True:\n",
    "            if A[i] >= pivot:\n",
    "                break\n",
    "            i += 1\n",
    "        if i < j:\n",
    "            A[i],A[j] = A[j], A[i]\n",
    "        else:\n",
    "            return j\n",
    "            \n",
    "def quickSortHoare(A,p,r):\n",
    "    if p < r:\n",
    "        q = partitionLomuto(A,p,r)\n",
    "        quickSortLomuto(A,p,q)\n",
    "        quickSortLomuto(A,q+1,r)\n",
    "        \n",
    "# Time Complexity = O(nlogn) due to recursion + divide and conquer\n",
    "# Space Complexity = O(logn) It calls the recursion logn times"
   ]
  },
  {
   "cell_type": "code",
   "execution_count": 4,
   "id": "e5e88f33-fb98-4cdc-a1ad-dff7ee2530f6",
   "metadata": {},
   "outputs": [],
   "source": [
    "def randomNumLists(n):\n",
    "    rand_list=[]\n",
    "    # n=[10, 1000, 5000, 10000, 20000]\n",
    "    for i in n:\n",
    "        inList = []\n",
    "        for j in range(i):\n",
    "            inList.append(random.randint(0,max(n)))\n",
    "        rand_list.append(inList)\n",
    "    return rand_list"
   ]
  },
  {
   "cell_type": "code",
   "execution_count": null,
   "id": "3f81c692-fd00-4f16-96f2-1f843125009e",
   "metadata": {},
   "outputs": [],
   "source": [
    "# def sortedList(A):\n",
    "#     for i "
   ]
  },
  {
   "cell_type": "code",
   "execution_count": 40,
   "id": "ff0ece2d-e255-421f-a19c-764e538caf46",
   "metadata": {},
   "outputs": [
    {
     "name": "stdout",
     "output_type": "stream",
     "text": [
      "recursion limit:3000\n",
      "[792, 3524, 4354, 7355, 12936, 13622, 15115, 15153, 17423, 19682]\n",
      "[792, 3524, 4354, 7355, 12936, 13622, 15115, 15153, 17423, 19682]\n",
      "[792, 3524, 4354, 7355, 12936, 13622, 15115, 15153, 17423, 19682]\n",
      "[792, 3524, 4354, 7355, 12936, 13622, 15115, 15153, 17423, 19682]\n"
     ]
    }
   ],
   "source": [
    "# sys.setrecursionlimit(30000)\n",
    "print(f\"recursion limit:{sys.getrecursionlimit()}\")\n",
    "n=[10, 1000, 5000, 10000, 20000]\n",
    "randomList = randomNumLists(n)\n",
    "# this will be used to check answers with my sorting algorithms, python uses timsort\n",
    "\n",
    "# newList = [] \n",
    "# for i in randomList:\n",
    "#     newList.append(sorted(i))\n",
    "\n",
    "# insertion sort\n",
    "insertionList = randomList[:]\n",
    "for i in insertionList:\n",
    "    insertionSort(i)\n",
    "print(insertionList[0])\n",
    "\n",
    "print(randomList[0])\n",
    "\n",
    "mergeList = randomList[:]\n",
    "for i in mergeList:\n",
    "    mergeSort(i,0,len(i)-1)\n",
    "\n",
    "print(mergeList[0])\n",
    "print(randomList[0])\n",
    "countingList = []\n",
    "# for i in randomList:\n",
    "#     countingList.append(countingSort(i))\n",
    "# print(countingList[0])\n",
    "LomutoList = []\n",
    "HoareList = []\n",
    "\n",
    "\n"
   ]
  },
  {
   "cell_type": "code",
   "execution_count": 31,
   "id": "17e9e7e0-69f6-4f35-bbe6-3c59ad39e70b",
   "metadata": {},
   "outputs": [
    {
     "name": "stdout",
     "output_type": "stream",
     "text": [
      "[5, 6, 11, 12, 13]\n",
      "[5, 6, 11, 12, 13]\n"
     ]
    }
   ],
   "source": [
    "arr = [12, 11, 13, 5, 6] \n",
    "a = quickSortLomuto(arr,0,len(arr)-1)\n",
    "print(arr)\n",
    "print(arr)"
   ]
  },
  {
   "cell_type": "code",
   "execution_count": 14,
   "id": "ebec264a-b0c7-4614-b0ef-63fbea5abf28",
   "metadata": {},
   "outputs": [
    {
     "name": "stdout",
     "output_type": "stream",
     "text": [
      "0.5714025946899135\n",
      "0.5714025946899135\n"
     ]
    }
   ],
   "source": [
    "random.seed(10)\n",
    "print(random.random())\n",
    "random.seed(10)\n",
    "print(random.random())"
   ]
  },
  {
   "cell_type": "code",
   "execution_count": null,
   "id": "c6e4ea47-6baf-46dc-b7dc-9e41cd897728",
   "metadata": {},
   "outputs": [],
   "source": []
  }
 ],
 "metadata": {
  "kernelspec": {
   "display_name": "Python 3 (ipykernel)",
   "language": "python",
   "name": "python3"
  },
  "language_info": {
   "codemirror_mode": {
    "name": "ipython",
    "version": 3
   },
   "file_extension": ".py",
   "mimetype": "text/x-python",
   "name": "python",
   "nbconvert_exporter": "python",
   "pygments_lexer": "ipython3",
   "version": "3.10.6"
  },
  "vscode": {
   "interpreter": {
    "hash": "31f2aee4e71d21fbe5cf8b01ff0e069b9275f58929596ceb00d14d90e3e16cd6"
   }
  }
 },
 "nbformat": 4,
 "nbformat_minor": 5
}
