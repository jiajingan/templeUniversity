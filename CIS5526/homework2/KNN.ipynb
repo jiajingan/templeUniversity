{
 "cells": [
  {
   "cell_type": "code",
   "execution_count": 11,
   "id": "5091b020-2701-40f3-a8a1-c314030677f8",
   "metadata": {},
   "outputs": [],
   "source": [
    "# Python imports\n",
    "import pandas as pd\n",
    "import numpy as np\n",
    "import matplotlib.pyplot as plt\n",
    "import math as m"
   ]
  },
  {
   "cell_type": "code",
   "execution_count": 12,
   "id": "8ae35a30-265e-4ffe-aaa0-8cfe5ac117ec",
   "metadata": {},
   "outputs": [],
   "source": [
    "def EuDistance(x,y,N):\n",
    "    base = 0\n",
    "    for i in range(N):\n",
    "        base += (x[i]-y[i])**2\n",
    "    return m.sqrt(base)"
   ]
  },
  {
   "cell_type": "code",
   "execution_count": 13,
   "id": "fbbc08df-00b4-4afb-9c12-947530decd22",
   "metadata": {},
   "outputs": [
    {
     "data": {
      "text/plain": [
       "21.93171219946131"
      ]
     },
     "execution_count": 13,
     "metadata": {},
     "output_type": "execute_result"
    }
   ],
   "source": [
    "# Coordinates of Point P\n",
    "P = [3, 9, 7, 2, 4, 5] \n",
    "  \n",
    "# Coordinates of point Q\n",
    "Q = [-5, -3, -9, 0, 6, 2]\n",
    "\n",
    "EuDistance(P,Q,len(P))"
   ]
  },
  {
   "cell_type": "code",
   "execution_count": 18,
   "id": "3a9067e9-bbf3-403d-b746-74311047bb90",
   "metadata": {},
   "outputs": [
    {
     "name": "stdout",
     "output_type": "stream",
     "text": [
      "   sepal.length  sepal.width  petal.length  petal.width variety\n",
      "0           5.1          3.5           1.4          0.2  Setosa\n",
      "1           4.9          3.0           1.4          0.2  Setosa\n",
      "2           4.7          3.2           1.3          0.2  Setosa\n",
      "3           4.6          3.1           1.5          0.2  Setosa\n",
      "4           5.0          3.6           1.4          0.2  Setosa\n",
      "['sepal.length', 'sepal.width', 'petal.length', 'petal.width', 'variety']\n"
     ]
    }
   ],
   "source": [
    "df = pd.read_csv('iris.csv')\n",
    "print(df.head())\n",
    "print (list(df.columns))"
   ]
  },
  {
   "cell_type": "code",
   "execution_count": null,
   "id": "daa0aeb1-25ba-4767-a7bc-f35d1fb88593",
   "metadata": {},
   "outputs": [],
   "source": []
  },
  {
   "cell_type": "code",
   "execution_count": null,
   "id": "1f5c0ba3-9e31-48e0-a8a6-54b4de735f2c",
   "metadata": {},
   "outputs": [],
   "source": []
  }
 ],
 "metadata": {
  "kernelspec": {
   "display_name": "Python 3 (ipykernel)",
   "language": "python",
   "name": "python3"
  },
  "language_info": {
   "codemirror_mode": {
    "name": "ipython",
    "version": 3
   },
   "file_extension": ".py",
   "mimetype": "text/x-python",
   "name": "python",
   "nbconvert_exporter": "python",
   "pygments_lexer": "ipython3",
   "version": "3.10.6"
  }
 },
 "nbformat": 4,
 "nbformat_minor": 5
}
