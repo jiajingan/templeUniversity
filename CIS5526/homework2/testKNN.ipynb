{
 "cells": [
  {
   "cell_type": "code",
   "execution_count": 6,
   "id": "a3258349-a051-4daa-8923-1ca34aa1c053",
   "metadata": {},
   "outputs": [
    {
     "name": "stdout",
     "output_type": "stream",
     "text": [
      "Response for test dataset:\n",
      "['Versicolor' 'Versicolor' 'Versicolor' 'Virginica' 'Versicolor'\n",
      " 'Virginica' 'Versicolor' 'Virginica' 'Setosa' 'Setosa' 'Versicolor'\n",
      " 'Virginica' 'Setosa' 'Setosa' 'Versicolor' 'Virginica' 'Versicolor'\n",
      " 'Setosa' 'Versicolor' 'Versicolor' 'Virginica' 'Setosa' 'Setosa'\n",
      " 'Virginica' 'Virginica' 'Setosa' 'Setosa' 'Versicolor' 'Versicolor'\n",
      " 'Versicolor' 'Versicolor' 'Virginica' 'Versicolor' 'Setosa' 'Setosa'\n",
      " 'Setosa' 'Setosa' 'Virginica' 'Setosa' 'Virginica' 'Setosa' 'Virginica'\n",
      " 'Versicolor' 'Setosa' 'Versicolor']\n"
     ]
    }
   ],
   "source": [
    "import pandas as pd\n",
    "from sklearn.model_selection import train_test_split\n",
    "from sklearn.neighbors import KNeighborsClassifier\n",
    "iris = pd.read_csv(\"iris.csv\")\n",
    "#Drop id column\n",
    "# iris = iris.drop('Id',axis=1)\n",
    "X = iris.iloc[:, :-1].values\n",
    "y = iris.iloc[:, 4].values\n",
    "#Split arrays or matrices into random train and test subsets\n",
    "X_train, X_test, y_train, y_test = train_test_split(X, y, test_size=0.30)\n",
    "\n",
    "# print(\"\\n70% train data:\")\n",
    "# print(X_train)\n",
    "# print(y_train)\n",
    "# print(\"\\n30% test data:\")\n",
    "# print(X_test)\n",
    "# print(y_test)\n",
    "\n",
    "#Create KNN Classifier\n",
    "#Number of neighbors to use by default for kneighbors queries.\n",
    "knn = KNeighborsClassifier(n_neighbors=5)\n",
    "#Train the model using the training sets\n",
    "knn.fit(X_train, y_train)\n",
    "#Predict the response for test dataset\n",
    "print(\"Response for test dataset:\")\n",
    "y_pred = knn.predict(X_test)\n",
    "print(y_pred)\n"
   ]
  },
  {
   "cell_type": "code",
   "execution_count": null,
   "id": "0ef3f63a-b368-4bb4-a1c9-890f947bb74b",
   "metadata": {},
   "outputs": [],
   "source": []
  }
 ],
 "metadata": {
  "kernelspec": {
   "display_name": "Python 3 (ipykernel)",
   "language": "python",
   "name": "python3"
  },
  "language_info": {
   "codemirror_mode": {
    "name": "ipython",
    "version": 3
   },
   "file_extension": ".py",
   "mimetype": "text/x-python",
   "name": "python",
   "nbconvert_exporter": "python",
   "pygments_lexer": "ipython3",
   "version": "3.10.6"
  }
 },
 "nbformat": 4,
 "nbformat_minor": 5
}
